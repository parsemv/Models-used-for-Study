{
 "cells": [
  {
   "cell_type": "code",
   "execution_count": null,
   "id": "da55bdc9-95c7-493f-99ff-bfdc07facbfd",
   "metadata": {},
   "outputs": [],
   "source": [
    "import time\n",
    "import tensorflow as tf\n",
    "from tensorflow.python.client import device_lib\n",
    "\n",
    "# -------------------------------\n",
    "# Check for GPU availability\n",
    "# -------------------------------\n",
    "gpus = tf.config.list_physical_devices('GPU')\n",
    "if gpus:\n",
    "    print(f\"GPU detected: {gpus[0].name}\")\n",
    "else:\n",
    "    print(\"No GPU detected. Running on CPU.\")\n",
    "\n",
    "# -------------------------------\n",
    "# Measure inference time\n",
    "# -------------------------------\n",
    "sample_input = tf.convert_to_tensor(X_test[:1])  # batch size = 1\n",
    "\n",
    "# Warmup (important for GPU)\n",
    "for _ in range(5):\n",
    "    _ = model.predict(sample_input)\n",
    "\n",
    "# Timed prediction\n",
    "start = time.time()\n",
    "_ = model.predict(sample_input)\n",
    "end = time.time()\n",
    "\n",
    "ms_per_frame = (end - start) * 1000\n",
    "print(f\"\\n🕒 Inference time: {ms_per_frame:.2f} ms/frame\")\n",
    "\n",
    "# -------------------------------\n",
    "# Optional: average over multiple runs\n",
    "# -------------------------------\n",
    "runs = 30\n",
    "total_time = 0\n",
    "for _ in range(runs):\n",
    "    start = time.time()\n",
    "    _ = model.predict(sample_input)\n",
    "    end = time.time()\n",
    "    total_time += (end - start)\n",
    "\n",
    "avg_time = (total_time / runs) * 1000\n",
    "print(f\"Average over {runs} runs: {avg_time:.2f} ms/frame\")"
   ]
  }
 ],
 "metadata": {
  "kernelspec": {
   "display_name": "Python 3 (ipykernel)",
   "language": "python",
   "name": "python3"
  },
  "language_info": {
   "codemirror_mode": {
    "name": "ipython",
    "version": 3
   },
   "file_extension": ".py",
   "mimetype": "text/x-python",
   "name": "python",
   "nbconvert_exporter": "python",
   "pygments_lexer": "ipython3",
   "version": "3.12.4"
  }
 },
 "nbformat": 4,
 "nbformat_minor": 5
}
